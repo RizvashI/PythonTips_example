{
 "cells": [
  {
   "cell_type": "code",
   "execution_count": 7,
   "metadata": {},
   "outputs": [
    {
     "name": "stdout",
     "output_type": "stream",
     "text": [
      "123450\n",
      "0\n",
      "12345\n",
      "5\n"
     ]
    }
   ],
   "source": [
    "value = 123450\n",
    "print (value )\n",
    "print (value % 10)\n",
    "value //= 10\n",
    "\n",
    "print (value )\n",
    "print (value % 10) \n",
    "\n",
    "\n"
   ]
  },
  {
   "cell_type": "code",
   "execution_count": 10,
   "metadata": {},
   "outputs": [
    {
     "name": "stdout",
     "output_type": "stream",
     "text": [
      "[2, 3, 5, 7, 11, 13]\n"
     ]
    }
   ],
   "source": [
    "inputV = 17\n",
    "print([i for i in range(2, inputV) if 0 not in [i%n for n in range(2, i)]])\n",
    "\n",
    "counter = 0\n",
    "startp = 2\n",
    "npoint = 5\n",
    "acc = []\n",
    "while counter != npoint:\n",
    "    "
   ]
  },
  {
   "cell_type": "code",
   "execution_count": 28,
   "metadata": {},
   "outputs": [
    {
     "name": "stdout",
     "output_type": "stream",
     "text": [
      "2\n",
      "3\n",
      "5\n",
      "7\n",
      "11\n",
      "13\n"
     ]
    }
   ],
   "source": [
    "counter = 0\n",
    "endPoint = 6\n",
    "i = 0\n",
    "#a = float('inf')\n",
    "#for num in range(2, a):\n",
    "for num in range(2, 101):\n",
    "#while True:\n",
    " #   i += 1\n",
    "#for (i;;  i++):\n",
    "    if all(num%i!=0 for i in range(2,num)):\n",
    "       print (num)\n",
    "       counter += 1\n",
    "       if counter == endPoint:\n",
    "           break\n",
    "    "
   ]
  },
  {
   "cell_type": "code",
   "execution_count": 31,
   "metadata": {},
   "outputs": [
    {
     "name": "stdout",
     "output_type": "stream",
     "text": [
      "3\n",
      "5\n",
      "7\n",
      "11\n",
      "13\n",
      "17\n",
      "19\n",
      "23\n",
      "29\n",
      "31\n",
      "37\n",
      "41\n",
      "43\n",
      "47\n",
      "53\n"
     ]
    }
   ],
   "source": [
    "counter = 0\n",
    "endPoint = 15\n",
    "i = 0\n",
    "num =2\n",
    "while True:\n",
    "    i += 1\n",
    "    num += 1\n",
    "    if all(num%i!=0 for i in range(2,num)):\n",
    "       print (num)\n",
    "       counter += 1\n",
    "       if counter == endPoint:\n",
    "           break\n",
    "    "
   ]
  }
 ],
 "metadata": {
  "kernelspec": {
   "display_name": "Python 3",
   "language": "python",
   "name": "python3"
  },
  "language_info": {
   "codemirror_mode": {
    "name": "ipython",
    "version": 3
   },
   "file_extension": ".py",
   "mimetype": "text/x-python",
   "name": "python",
   "nbconvert_exporter": "python",
   "pygments_lexer": "ipython3",
   "version": "3.10.13"
  }
 },
 "nbformat": 4,
 "nbformat_minor": 2
}
