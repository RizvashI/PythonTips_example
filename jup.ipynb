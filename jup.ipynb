{
 "cells": [
  {
   "cell_type": "code",
   "execution_count": 22,
   "metadata": {},
   "outputs": [
    {
     "name": "stdout",
     "output_type": "stream",
     "text": [
      "<class 'tuple'>\n",
      "tuple is immutable... ([], [])\n",
      "([1, 2, 3], [])\n"
     ]
    }
   ],
   "source": [
    "xs = ([], [])\n",
    "print(type(xs))\n",
    "print(\"tuple is immutable...\", xs)\n",
    "xs[0].extend([1, 2, 3])\n",
    "print(xs)"
   ]
  },
  {
   "cell_type": "code",
   "execution_count": 10,
   "metadata": {},
   "outputs": [
    {
     "name": "stdout",
     "output_type": "stream",
     "text": [
      "hi 2\n"
     ]
    }
   ],
   "source": [
    "a = 1 + True\n",
    "b = 2\n",
    "c = 3\n",
    "if (a):\n",
    "    print (\"hi\", a)"
   ]
  },
  {
   "cell_type": "code",
   "execution_count": 21,
   "metadata": {},
   "outputs": [
    {
     "name": "stdout",
     "output_type": "stream",
     "text": [
      "222\n",
      "50 drive\n"
     ]
    }
   ],
   "source": [
    "a = 222\n",
    "b = 333\n",
    "min = a if a < b else b\n",
    "print(min)\n",
    "\n",
    "age = 51\n",
    "permission = \"cannot drive\" if 18 > age > 70  else (\"still young\" if 30 > age > 50 else \"for wisdom\")\n",
    "print (permission)"
   ]
  },
  {
   "cell_type": "code",
   "execution_count": 28,
   "metadata": {},
   "outputs": [
    {
     "name": "stdout",
     "output_type": "stream",
     "text": [
      "[0, 1, 2, 3, 4]\n"
     ]
    },
    {
     "data": {
      "text/plain": [
       "range(0, 5)"
      ]
     },
     "execution_count": 28,
     "metadata": {},
     "output_type": "execute_result"
    }
   ],
   "source": [
    "x = 8\n",
    "y = 9\n",
    "\n",
    "x,y = y,x\n",
    "\n",
    "print(list(range(5)))\n",
    "range(5)\n"
   ]
  },
  {
   "cell_type": "code",
   "execution_count": 32,
   "metadata": {},
   "outputs": [
    {
     "name": "stdout",
     "output_type": "stream",
     "text": [
      "['adsad', ' sdasd', ' afasfasf', ' asdasf']\n",
      "<class 'list'>\n",
      "adsad\n",
      " sdasd\n",
      " afasfasf\n",
      " asdasf\n"
     ]
    }
   ],
   "source": [
    "\n",
    "\n",
    "text = \"adsad, sdasd, afasfasf, asdasf\".split(\",\")\n",
    "print(text)\n",
    "print(type(text))\n",
    "for i in text:\n",
    "    print (i)"
   ]
  },
  {
   "cell_type": "code",
   "execution_count": 40,
   "metadata": {},
   "outputs": [
    {
     "name": "stdout",
     "output_type": "stream",
     "text": [
      "6\n",
      "[4, 5, -3, 2, -100, -2]\n",
      "-94\n"
     ]
    }
   ],
   "source": [
    "numstring = \"1, 2, 3, 4\"\n",
    "print (sum([1, 2 , 3]))\n",
    "\n",
    "\n",
    "\n",
    "test_str = \"4 5 -3 2 -100 -2\"\n",
    "int_list = []\n",
    "for x in test_str.split():\n",
    "    int_list.append(int(x))\n",
    "print(int_list)\n",
    "print(sum(int_list))"
   ]
  },
  {
   "cell_type": "code",
   "execution_count": null,
   "metadata": {},
   "outputs": [],
   "source": [
    "sum = 0\n",
    "for i in text:\n",
    "    if i in \"0123456789\":\n",
    "        sum += i\n"
   ]
  },
  {
   "cell_type": "code",
   "execution_count": 43,
   "metadata": {},
   "outputs": [
    {
     "name": "stdout",
     "output_type": "stream",
     "text": [
      "Average of list:  -124605.5\n"
     ]
    }
   ],
   "source": [
    "num_list = [1, 999, 2, 1023, 223, 876, 32, -1000]\n",
    "\n",
    "average = sum(num_list)/len(num_list)\n",
    "\n",
    "print(\"Average of list: \", round(average,3))"
   ]
  },
  {
   "cell_type": "code",
   "execution_count": 44,
   "metadata": {},
   "outputs": [
    {
     "name": "stdout",
     "output_type": "stream",
     "text": [
      "Average value of the list:\n",
      "\n",
      "67.51375\n",
      "Average value of the list with precision upto 3 decimal value:\n",
      "\n",
      "67.514\n"
     ]
    }
   ],
   "source": [
    "from statistics import mean \n",
    "\n",
    "inp_lst = [12, 45, 78, 36, 45, 237.11, -1, 88] \n",
    "list_avg = mean(inp_lst) \n",
    "\n",
    "print(\"Average value of the list:\\n\") \n",
    "print(list_avg) \n",
    "print(\"Average value of the list with precision upto 3 decimal value:\\n\")\n",
    "print(round(list_avg,3))"
   ]
  },
  {
   "cell_type": "code",
   "execution_count": 47,
   "metadata": {},
   "outputs": [
    {
     "name": "stdout",
     "output_type": "stream",
     "text": [
      "-328.75390625\n"
     ]
    }
   ],
   "source": [
    "inp_lst = [1, 999, 2, 1023, 223, 876, 32, -1000] #[12, 45, 78, 36, 45, 237.11, -1, 88] \n",
    "avareg2 = 0\n",
    "for i in inp_lst:\n",
    "    avareg2 = (avareg2 + i)/2\n",
    "\n",
    "print(avareg2)"
   ]
  },
  {
   "cell_type": "code",
   "execution_count": 2,
   "metadata": {},
   "outputs": [
    {
     "name": "stdout",
     "output_type": "stream",
     "text": [
      "[1, 2, 3]\n",
      "[1, 2]\n",
      "pop way [1, 2, 3, 3, 2]\n"
     ]
    }
   ],
   "source": [
    "# arr = [1,2,3]\n",
    "# print(arr[::-1])\n",
    "# print(arr+arr[::-1])\n",
    "\n",
    "# print(arr+arr[1::-1])\n",
    "\n",
    "arr = [1,2,3]\n",
    "res = []\n",
    "res = arr [:] \n",
    "\n",
    "for i in arr:\n",
    "    print(arr)\n",
    "    res.append(arr.pop())\n",
    "\n",
    "print(\"pop way\", res)"
   ]
  },
  {
   "cell_type": "code",
   "execution_count": 3,
   "metadata": {},
   "outputs": [
    {
     "name": "stdout",
     "output_type": "stream",
     "text": [
      "9\n",
      "8\n",
      "7\n",
      "6\n",
      "5\n",
      "4\n",
      "3\n",
      "2\n",
      "1\n",
      "0\n"
     ]
    }
   ],
   "source": [
    "popped =  [0, 1, 2, 3, 4, 5, 6, 7, 8, 9]\n",
    "popped2 = popped[:]\n",
    "for i in popped:\n",
    "    print(popped2.pop())"
   ]
  },
  {
   "cell_type": "code",
   "execution_count": 6,
   "metadata": {},
   "outputs": [
    {
     "name": "stdout",
     "output_type": "stream",
     "text": [
      "[1, 2]\n",
      "[3, 4]\n",
      "[5, 6]\n",
      "(3, 2)\n"
     ]
    }
   ],
   "source": [
    "import numpy as np\n",
    "\n",
    "ax1 = [[1,2], [3,4], [5,6]]\n",
    "ax2 = [[[1,2,3],[4,5,6]]]\n",
    "\n",
    "for i in ax1:\n",
    "    print (i)\n",
    "\n",
    "all_arrays = np.array(ax1)\n",
    "print(all_arrays.shape)\n",
    "\n",
    "rows = 3\n",
    "colomn = 4\n",
    "arr3 = []"
   ]
  },
  {
   "cell_type": "code",
   "execution_count": 16,
   "metadata": {},
   "outputs": [
    {
     "ename": "TypeError",
     "evalue": "'builtin_function_or_method' object is not subscriptable",
     "output_type": "error",
     "traceback": [
      "\u001b[0;31m---------------------------------------------------------------------------\u001b[0m",
      "\u001b[0;31mTypeError\u001b[0m                                 Traceback (most recent call last)",
      "Cell \u001b[0;32mIn[16], line 5\u001b[0m\n\u001b[1;32m      3\u001b[0m \u001b[38;5;28;01mfor\u001b[39;00m i \u001b[38;5;129;01min\u001b[39;00m \u001b[38;5;28mrange\u001b[39m (\u001b[38;5;241m5\u001b[39m):\n\u001b[1;32m      4\u001b[0m     \u001b[38;5;28;01mfor\u001b[39;00m j \u001b[38;5;129;01min\u001b[39;00m \u001b[38;5;28mrange\u001b[39m (\u001b[38;5;241m4\u001b[39m):\n\u001b[0;32m----> 5\u001b[0m        \u001b[43marr\u001b[49m\u001b[38;5;241;43m.\u001b[39;49m\u001b[43mappend\u001b[49m\u001b[43m[\u001b[49m\u001b[43mi\u001b[49m\u001b[43m]\u001b[49m(\u001b[38;5;241m1\u001b[39m)\n\u001b[1;32m      7\u001b[0m \u001b[38;5;66;03m#arr = [0 for i in range(5) ]\u001b[39;00m\n\u001b[1;32m      9\u001b[0m \u001b[38;5;28mprint\u001b[39m(arr)\n",
      "\u001b[0;31mTypeError\u001b[0m: 'builtin_function_or_method' object is not subscriptable"
     ]
    }
   ],
   "source": [
    "arr=[]\n",
    "\n",
    "for i in range (5):\n",
    "    for j in range (4):\n",
    "       arr.append[i](1)\n",
    "\n",
    "#arr = [0 for i in range(5) ]\n",
    "\n",
    "print(arr)"
   ]
  },
  {
   "cell_type": "markdown",
   "metadata": {},
   "source": []
  },
  {
   "cell_type": "code",
   "execution_count": 23,
   "metadata": {},
   "outputs": [
    {
     "ename": "SyntaxError",
     "evalue": "invalid syntax (1171358999.py, line 5)",
     "output_type": "error",
     "traceback": [
      "\u001b[0;36m  Cell \u001b[0;32mIn[23], line 5\u001b[0;36m\u001b[0m\n\u001b[0;31m    t = [ [counter]*rows for i in range(colms); couter +=1 ]\u001b[0m\n\u001b[0m                                              ^\u001b[0m\n\u001b[0;31mSyntaxError\u001b[0m\u001b[0;31m:\u001b[0m invalid syntax\n"
     ]
    }
   ],
   "source": [
    "rows = 3\n",
    "colms = 6\n",
    "counter = 0\n",
    "\n",
    "t = [ [counter]*rows for i in range(colms); couter +=1 ]\n",
    "print(t)"
   ]
  },
  {
   "cell_type": "code",
   "execution_count": 26,
   "metadata": {},
   "outputs": [
    {
     "ename": "IndexError",
     "evalue": "list index out of range",
     "output_type": "error",
     "traceback": [
      "\u001b[0;31m---------------------------------------------------------------------------\u001b[0m",
      "\u001b[0;31mIndexError\u001b[0m                                Traceback (most recent call last)",
      "Cell \u001b[0;32mIn[26], line 5\u001b[0m\n\u001b[1;32m      2\u001b[0m cols \u001b[38;5;241m=\u001b[39m \u001b[38;5;241m5\u001b[39m\n\u001b[1;32m      4\u001b[0m \u001b[38;5;28;01mfor\u001b[39;00m i \u001b[38;5;129;01min\u001b[39;00m \u001b[38;5;28mrange\u001b[39m(\u001b[38;5;241m0\u001b[39m, rows \u001b[38;5;241m*\u001b[39m cols \u001b[38;5;241m+\u001b[39m\u001b[38;5;241m1\u001b[39m):\n\u001b[0;32m----> 5\u001b[0m     \u001b[43marr\u001b[49m\u001b[43m[\u001b[49m\u001b[38;5;241;43m-\u001b[39;49m\u001b[38;5;241;43m1\u001b[39;49m\u001b[43m]\u001b[49m\u001b[38;5;241m.\u001b[39mappend(i)\n\u001b[1;32m      6\u001b[0m     \u001b[38;5;28;01mif\u001b[39;00m i \u001b[38;5;241m%\u001b[39m rows:\n\u001b[1;32m      7\u001b[0m         arr\u001b[38;5;241m.\u001b[39mappend([])\n",
      "\u001b[0;31mIndexError\u001b[0m: list index out of range"
     ]
    }
   ],
   "source": [
    "rows = 9\n",
    "cols = 5\n",
    "\n",
    "for i in range(0, rows * cols +1):\n",
    "    arr[-1].append(i)\n",
    "    if i % rows:\n",
    "        arr.append([])\n",
    "\n",
    "print(arr)\n",
    "\n",
    "#t = [ [0]*3 for i in range(3)]"
   ]
  },
  {
   "cell_type": "code",
   "execution_count": 27,
   "metadata": {},
   "outputs": [
    {
     "name": "stdout",
     "output_type": "stream",
     "text": [
      "[[0, 0, 0, 0, 0], [0, 0, 0, 0, 0], [0, 0, 0, 0, 0]]\n"
     ]
    }
   ],
   "source": [
    "t = [ [0]*5 for i in range(3)]\n",
    "print(t)\n",
    "\n",
    "for "
   ]
  },
  {
   "cell_type": "code",
   "execution_count": 31,
   "metadata": {},
   "outputs": [
    {
     "name": "stdout",
     "output_type": "stream",
     "text": [
      "[[1, 2, 3, 4, 5, 6], [7, 8, 9, 10, 11, 12], [13, 14, 15, 16, 17, 18]]\n"
     ]
    }
   ],
   "source": [
    "h = 3\n",
    "w = 6\n",
    "\n",
    "req_array = [[(j+1)+w*i for j in range(w)] for i in range(h)]\n",
    "print(req_array)"
   ]
  }
 ],
 "metadata": {
  "kernelspec": {
   "display_name": "Python 3",
   "language": "python",
   "name": "python3"
  },
  "language_info": {
   "codemirror_mode": {
    "name": "ipython",
    "version": 3
   },
   "file_extension": ".py",
   "mimetype": "text/x-python",
   "name": "python",
   "nbconvert_exporter": "python",
   "pygments_lexer": "ipython3",
   "version": "3.10.13"
  }
 },
 "nbformat": 4,
 "nbformat_minor": 2
}
